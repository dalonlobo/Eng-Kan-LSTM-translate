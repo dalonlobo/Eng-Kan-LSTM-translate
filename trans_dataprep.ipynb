{
 "cells": [
  {
   "cell_type": "code",
   "execution_count": 281,
   "metadata": {},
   "outputs": [],
   "source": [
    "import tensorflow as tf\n",
    "import unicodedata\n",
    "import re\n",
    "import numpy as np\n",
    "import os\n",
    "import io\n",
    "import time\n",
    "import collections\n",
    "import matplotlib.pyplot as plt\n",
    "from pathlib import Path\n",
    "from typing import Any\n",
    "\n",
    "from tensorflow.keras.models import Model, Sequential\n",
    "from tensorflow.keras.layers import GRU, Input, Dense, TimeDistributed, Activation, RepeatVector, Bidirectional, Dropout, LSTM, SimpleRNN\n",
    "from keras.layers.embeddings import Embedding\n",
    "from tensorflow.keras.optimizers import Adam\n",
    "from tensorflow.keras.losses import sparse_categorical_crossentropy"
   ]
  },
  {
   "cell_type": "code",
   "execution_count": 176,
   "metadata": {},
   "outputs": [
    {
     "name": "stdout",
     "output_type": "stream",
     "text": [
      "Config file: /mnt/d/StFX/OneDrive - St. Francis Xavier University/CSCI 444/project/config.toml loaded!\n"
     ]
    }
   ],
   "source": [
    "from src.utils.file_helper import get_config\n",
    "\n",
    "# globals\n",
    "CONFIG_FILE = \"config.toml\"\n",
    "# Load the configuration file\n",
    "config = get_config(CONFIG_FILE)"
   ]
  },
  {
   "cell_type": "code",
   "execution_count": 177,
   "metadata": {},
   "outputs": [],
   "source": [
    "# new dataset\n",
    "data_dir = Path().resolve() / config[\"dir\"][\"data\"]\n",
    "# data_path = data_dir / \"kan-eng\" / \"kan.txt\"\n",
    "data_path = data_dir / \"en-kn-large\"\n",
    "engkan_data = []\n",
    "count = 0\n",
    "with open(data_path / \"train.en\", encoding=\"utf-8\") as f1, open(data_path / \"train.kn\", encoding=\"utf-8\") as f2:\n",
    "    for idx, line in enumerate(f1):\n",
    "        line = line.strip()\n",
    "        kan_line = next(f2).strip()\n",
    "        match = re.match(\"^[A-Za-z\\s]*$\", line) #  re.match(\"^[A-Za-z\\s]*\\,\\.$\", line)\n",
    "        if (\n",
    "            match\n",
    "            and (len(line.split()) == 5)\n",
    "            and all(word in words_to_pick for word in kan_line.split())\n",
    "        ):\n",
    "            count += 1\n",
    "            engkan_data.append([line, kan_line])\n"
   ]
  },
  {
   "cell_type": "code",
   "execution_count": 178,
   "metadata": {},
   "outputs": [
    {
     "data": {
      "text/plain": [
       "379"
      ]
     },
     "execution_count": 178,
     "metadata": {},
     "output_type": "execute_result"
    }
   ],
   "source": [
    "count"
   ]
  },
  {
   "cell_type": "code",
   "execution_count": 179,
   "metadata": {},
   "outputs": [
    {
     "name": "stdout",
     "output_type": "stream",
     "text": [
      "343 unique English words.\n",
      "10 Most common words in the English dataset:\n",
      "\"ಸಾವು\" \"ಮತ್ತು\" \"ಕಥೆ\" \"ಜೀವನ\" \"ವಿರುದ್ಧ\" \"ಪ್ರತಿಭಟನೆ\" \"ಅಪಘಾತದಲ್ಲಿ\" \"ಬಿಜೆಪಿ\" \"ಇಲ್ಲಿದೆ\" \"ಬೈಕ್\"\n",
      "\n"
     ]
    }
   ],
   "source": [
    "# get most common 150 chars\n",
    "english_words_counter = collections.Counter([word.lower() for sentence in engkan_data for word in sentence[1].split()])\n",
    "\n",
    "# print('{} English words.'.format(len([word for sentence in english_sentences for word in sentence.split()])))\n",
    "print('{} unique English words.'.format(len(english_words_counter)))\n",
    "print('10 Most common words in the English dataset:')\n",
    "print('\"' + '\" \"'.join(list(zip(*english_words_counter.most_common(10)))[0]) + '\"')\n",
    "print()"
   ]
  },
  {
   "cell_type": "code",
   "execution_count": 180,
   "metadata": {},
   "outputs": [
    {
     "data": {
      "text/plain": [
       "('ಕೃಷಿ', 1)"
      ]
     },
     "execution_count": 180,
     "metadata": {},
     "output_type": "execute_result"
    }
   ],
   "source": [
    "english_words_counter.most_common(5500)[-1]"
   ]
  },
  {
   "cell_type": "code",
   "execution_count": 181,
   "metadata": {},
   "outputs": [],
   "source": [
    "words_to_pick = [word[0] for word in english_words_counter.most_common(500)]"
   ]
  },
  {
   "cell_type": "code",
   "execution_count": 182,
   "metadata": {},
   "outputs": [],
   "source": [
    "import json\n",
    "# words_to_pick = [word[0] for word in english_words_counter.most_common(200) + english_words_counter.most_common(500)[300:400]]\n",
    "with open(\"words_to_pick.json\", \"w\") as f:\n",
    "    json.dump(words_to_pick, f)"
   ]
  },
  {
   "cell_type": "code",
   "execution_count": 183,
   "metadata": {},
   "outputs": [],
   "source": [
    "# data_dir = Path().resolve() / config[\"dir\"][\"data\"]\n",
    "# data_path = data_dir / \"kan-eng\" / \"kan.txt\"\n",
    "# data_path = data_dir / \"hin-eng\" / \"hin.txt\""
   ]
  },
  {
   "cell_type": "code",
   "execution_count": 184,
   "metadata": {},
   "outputs": [],
   "source": [
    "# engkan_data = []\n",
    "# with open(data_path, encoding='utf-8') as f:\n",
    "#     for line in f:\n",
    "#         _tmp = line.split(\"\\t\")\n",
    "#         engkan_data.append([_tmp[0].strip(), _tmp[1].strip()])"
   ]
  },
  {
   "cell_type": "code",
   "execution_count": 185,
   "metadata": {},
   "outputs": [],
   "source": [
    "engkan_data = engkan_data[:10000]"
   ]
  },
  {
   "cell_type": "code",
   "execution_count": 186,
   "metadata": {},
   "outputs": [],
   "source": [
    "def unicode_to_ascii(s: str) -> str:\n",
    "    \"Normalizes to NFD and remove accented characters\"\n",
    "    return \"\".join(c for c in unicodedata.normalize(\"NFD\", s) if unicodedata.category(c) != \"Mn\")\n",
    "\n",
    "\n",
    "def preprocess_en(s: str) -> str:\n",
    "    \"Convert to ascii, substitue punctuations and append 'start' and 'end' tokens\"\n",
    "    s = unicode_to_ascii(s.lower().strip())\n",
    "    s = re.sub(r\"([?.!|,¿])\", r\" \\1 \", s)\n",
    "    s = re.sub(r'[\" \"]+', \" \", s)\n",
    "    s = s.strip()\n",
    "    s = \"<start> \" + s + \" <end>\"\n",
    "    return s\n",
    "\n",
    "\n",
    "def preprocess_kn(s):\n",
    "    \"Substitue punctuations and append 'start' and 'end' tokens\"\n",
    "    s = s.lower().strip()\n",
    "    s = re.sub(r\"([?.!|,¿])\", r\" \\1 \", s)\n",
    "    s = re.sub(r'[\" \"]+', \" \", s)\n",
    "    s = s.strip()\n",
    "    s = \"<start> \" + s + \" <end>\"\n",
    "    return s\n",
    "\n",
    "\n",
    "def tokenize(lang: list) -> Any:\n",
    "    \"Tokenize the sentenses and padding to make all the same length\"\n",
    "    tokenizer = tf.keras.preprocessing.text.Tokenizer(filters=\"\")\n",
    "    tokenizer.fit_on_texts(lang)\n",
    "    tensor = tokenizer.texts_to_sequences(lang)\n",
    "    # Padding to the end of the sentence\n",
    "    # ! hardcoded here maxlen = 19\n",
    "    # tensor = tf.keras.preprocessing.sequence.pad_sequences(tensor, maxlen=None, padding=\"post\")\n",
    "    return tensor, tokenizer\n"
   ]
  },
  {
   "cell_type": "code",
   "execution_count": 187,
   "metadata": {},
   "outputs": [
    {
     "data": {
      "text/plain": [
       "379"
      ]
     },
     "execution_count": 187,
     "metadata": {},
     "output_type": "execute_result"
    }
   ],
   "source": [
    "len(engkan_data)"
   ]
  },
  {
   "cell_type": "code",
   "execution_count": 188,
   "metadata": {},
   "outputs": [],
   "source": [
    "eng_lang = [preprocess_en(w[0]) for w in engkan_data]\n",
    "kan_lang = [preprocess_kn(w[1]) for w in engkan_data]\n",
    "\n",
    "input_tensor, input_lang_tokenizer = tokenize(eng_lang)\n",
    "target_tensor, target_lang_tokenizer = tokenize(kan_lang)"
   ]
  },
  {
   "cell_type": "code",
   "execution_count": 189,
   "metadata": {},
   "outputs": [
    {
     "data": {
      "text/plain": [
       "344"
      ]
     },
     "execution_count": 189,
     "metadata": {},
     "output_type": "execute_result"
    }
   ],
   "source": [
    "len(target_lang_tokenizer.word_index)"
   ]
  },
  {
   "cell_type": "code",
   "execution_count": 190,
   "metadata": {},
   "outputs": [
    {
     "data": {
      "text/plain": [
       "379"
      ]
     },
     "execution_count": 190,
     "metadata": {},
     "output_type": "execute_result"
    }
   ],
   "source": [
    "len([len(i) for i in target_tensor])"
   ]
  },
  {
   "cell_type": "code",
   "execution_count": 191,
   "metadata": {},
   "outputs": [
    {
     "data": {
      "text/plain": [
       "379"
      ]
     },
     "execution_count": 191,
     "metadata": {},
     "output_type": "execute_result"
    }
   ],
   "source": [
    "len([len(i) for i in target_tensor if len(i) <= 19])"
   ]
  },
  {
   "cell_type": "code",
   "execution_count": 192,
   "metadata": {},
   "outputs": [],
   "source": [
    "_input_tensor, _target_tensor = [], []\n",
    "for idx, val in enumerate(target_tensor):\n",
    "    if len(val) <= 7:\n",
    "        _input_tensor.append(input_tensor[idx])\n",
    "        _target_tensor.append(target_tensor[idx])\n",
    "input_tensor = tf.keras.preprocessing.sequence.pad_sequences(_input_tensor, maxlen=None, padding=\"post\")\n",
    "target_tensor = tf.keras.preprocessing.sequence.pad_sequences(_target_tensor, maxlen=None, padding=\"post\")"
   ]
  },
  {
   "cell_type": "code",
   "execution_count": 193,
   "metadata": {},
   "outputs": [
    {
     "name": "stdout",
     "output_type": "stream",
     "text": [
      "(355, 7)\n",
      "(355, 7)\n"
     ]
    }
   ],
   "source": [
    "print(input_tensor.shape)\n",
    "print(target_tensor.shape)"
   ]
  },
  {
   "cell_type": "code",
   "execution_count": 194,
   "metadata": {},
   "outputs": [
    {
     "data": {
      "text/plain": [
       "('<start> as told by elva gjerde <end>',\n",
       " array([  1,  63,  10,   4, 120,  11,   2], dtype=int32))"
      ]
     },
     "execution_count": 194,
     "metadata": {},
     "output_type": "execute_result"
    }
   ],
   "source": [
    "eng_lang[110], input_tensor[110]"
   ]
  },
  {
   "cell_type": "code",
   "execution_count": 195,
   "metadata": {},
   "outputs": [
    {
     "data": {
      "text/plain": [
       "('<start> ಜೀವನ ಕಥೆ <end>',\n",
       " array([  1,  12, 206, 274,  47,   3,   2], dtype=int32))"
      ]
     },
     "execution_count": 195,
     "metadata": {},
     "output_type": "execute_result"
    }
   ],
   "source": [
    "kan_lang[110], target_tensor[110]"
   ]
  },
  {
   "cell_type": "code",
   "execution_count": 196,
   "metadata": {},
   "outputs": [],
   "source": [
    "max_targ_len, max_ip_len = target_tensor.shape[1], input_tensor.shape[1]\n",
    "eng_vocab_size = len(input_lang_tokenizer.word_index)\n",
    "kan_vocab_size = len(target_lang_tokenizer.word_index)"
   ]
  },
  {
   "cell_type": "code",
   "execution_count": 197,
   "metadata": {},
   "outputs": [
    {
     "name": "stdout",
     "output_type": "stream",
     "text": [
      "Max English sentence length: 7\n",
      "Max Kannada sentence length: 7\n",
      "English vocabulary size: 513\n",
      "Kannada vocabulary size: 344\n"
     ]
    }
   ],
   "source": [
    "print(\"Max English sentence length:\", max_ip_len)\n",
    "print(\"Max Kannada sentence length:\", max_targ_len)\n",
    "print(\"English vocabulary size:\", eng_vocab_size)\n",
    "print(\"Kannada vocabulary size:\", kan_vocab_size)"
   ]
  },
  {
   "cell_type": "code",
   "execution_count": 198,
   "metadata": {},
   "outputs": [],
   "source": [
    "# # Retain words upto 13 words long only\n",
    "# _input_tensor, _target_tensor = [], []\n",
    "# for idx, arr in enumerate(input_tensor):\n",
    "#     print(len(arr))\n",
    "#     if len(arr) <= 12:\n",
    "#         _input_tensor.append(arr)\n",
    "#         _target_tensor.append(target_tensor[idx])\n",
    "# # input_tensor = np.array(_input_tensor)\n",
    "# # target_tensor = np.array(_target_tensor)"
   ]
  },
  {
   "cell_type": "code",
   "execution_count": 199,
   "metadata": {},
   "outputs": [
    {
     "data": {
      "text/plain": [
       "355"
      ]
     },
     "execution_count": 199,
     "metadata": {},
     "output_type": "execute_result"
    }
   ],
   "source": [
    "target_tensor.shape[-2]"
   ]
  },
  {
   "cell_type": "code",
   "execution_count": 200,
   "metadata": {},
   "outputs": [
    {
     "data": {
      "text/plain": [
       "(355, 7)"
      ]
     },
     "execution_count": 200,
     "metadata": {},
     "output_type": "execute_result"
    }
   ],
   "source": [
    "target_tensor.shape"
   ]
  },
  {
   "cell_type": "code",
   "execution_count": 201,
   "metadata": {},
   "outputs": [],
   "source": [
    "# cross entropy needs labels in 3D\n",
    "target_tensor = target_tensor.reshape(*target_tensor.shape, 1)"
   ]
  },
  {
   "cell_type": "code",
   "execution_count": 202,
   "metadata": {},
   "outputs": [
    {
     "data": {
      "text/plain": [
       "(355, 7, 1)"
      ]
     },
     "execution_count": 202,
     "metadata": {},
     "output_type": "execute_result"
    }
   ],
   "source": [
    "target_tensor.shape"
   ]
  },
  {
   "cell_type": "code",
   "execution_count": 203,
   "metadata": {},
   "outputs": [
    {
     "data": {
      "text/plain": [
       "(355, 7)"
      ]
     },
     "execution_count": 203,
     "metadata": {},
     "output_type": "execute_result"
    }
   ],
   "source": [
    "input_tensor.shape"
   ]
  },
  {
   "cell_type": "code",
   "execution_count": 204,
   "metadata": {},
   "outputs": [
    {
     "data": {
      "text/plain": [
       "(355, 7)"
      ]
     },
     "execution_count": 204,
     "metadata": {},
     "output_type": "execute_result"
    }
   ],
   "source": [
    "input_tensor.shape"
   ]
  },
  {
   "cell_type": "code",
   "execution_count": 205,
   "metadata": {},
   "outputs": [],
   "source": [
    "tmp_y = target_tensor.reshape((target_tensor.shape[0], target_tensor.shape[1], 1))"
   ]
  },
  {
   "cell_type": "code",
   "execution_count": 206,
   "metadata": {},
   "outputs": [],
   "source": [
    "tmp_x = input_tensor.reshape((*input_tensor.shape, 1))\n"
   ]
  },
  {
   "cell_type": "code",
   "execution_count": null,
   "metadata": {},
   "outputs": [],
   "source": []
  },
  {
   "cell_type": "code",
   "execution_count": 207,
   "metadata": {},
   "outputs": [
    {
     "data": {
      "text/plain": [
       "(7, 1)"
      ]
     },
     "execution_count": 207,
     "metadata": {},
     "output_type": "execute_result"
    }
   ],
   "source": [
    "tmp_x.shape[1:]"
   ]
  },
  {
   "cell_type": "code",
   "execution_count": null,
   "metadata": {},
   "outputs": [],
   "source": []
  },
  {
   "cell_type": "code",
   "execution_count": 208,
   "metadata": {},
   "outputs": [
    {
     "name": "stdout",
     "output_type": "stream",
     "text": [
      "Model: \"sequential_4\"\n",
      "_________________________________________________________________\n",
      "Layer (type)                 Output Shape              Param #   \n",
      "=================================================================\n",
      "gru_4 (GRU)                  (None, 7, 64)             12864     \n",
      "_________________________________________________________________\n",
      "dense_8 (Dense)              (None, 7, 1024)           66560     \n",
      "_________________________________________________________________\n",
      "dropout_4 (Dropout)          (None, 7, 1024)           0         \n",
      "_________________________________________________________________\n",
      "dense_9 (Dense)              (None, 7, 344)            352600    \n",
      "=================================================================\n",
      "Total params: 432,024\n",
      "Trainable params: 432,024\n",
      "Non-trainable params: 0\n",
      "_________________________________________________________________\n"
     ]
    }
   ],
   "source": [
    "# Hyperparameters\n",
    "learning_rate = 0.005\n",
    "\n",
    "model = Sequential()\n",
    "model.add(GRU(64, input_shape=tmp_x.shape[1:], return_sequences=True))\n",
    "model.add(Dense(1024, activation=\"relu\"))\n",
    "model.add(Dropout(0.5))\n",
    "model.add(Dense(kan_vocab_size, activation=\"softmax\"))\n",
    "\n",
    "# Compile model\n",
    "model.compile(loss=sparse_categorical_crossentropy, optimizer=Adam(learning_rate), metrics=[\"accuracy\"])\n",
    "model.summary()\n"
   ]
  },
  {
   "cell_type": "code",
   "execution_count": 209,
   "metadata": {},
   "outputs": [
    {
     "data": {
      "text/plain": [
       "(355, 7, 1)"
      ]
     },
     "execution_count": 209,
     "metadata": {},
     "output_type": "execute_result"
    }
   ],
   "source": [
    "target_tensor.shape"
   ]
  },
  {
   "cell_type": "code",
   "execution_count": 210,
   "metadata": {},
   "outputs": [
    {
     "name": "stdout",
     "output_type": "stream",
     "text": [
      "Epoch 1/10\n",
      "18/18 [==============================] - 2s 28ms/step - loss: 4.4273 - accuracy: 0.3008 - val_loss: 3.7811 - val_accuracy: 0.3461\n",
      "Epoch 2/10\n",
      "18/18 [==============================] - 0s 11ms/step - loss: 3.4378 - accuracy: 0.3657 - val_loss: 3.3859 - val_accuracy: 0.4266\n",
      "Epoch 3/10\n",
      "18/18 [==============================] - 0s 12ms/step - loss: 3.1573 - accuracy: 0.4034 - val_loss: 3.2394 - val_accuracy: 0.4245\n",
      "Epoch 4/10\n",
      "18/18 [==============================] - 0s 10ms/step - loss: 2.9976 - accuracy: 0.4125 - val_loss: 3.1988 - val_accuracy: 0.4427\n",
      "Epoch 5/10\n",
      "18/18 [==============================] - 0s 10ms/step - loss: 2.8998 - accuracy: 0.4200 - val_loss: 3.2003 - val_accuracy: 0.4487\n",
      "Epoch 6/10\n",
      "18/18 [==============================] - 0s 9ms/step - loss: 2.8562 - accuracy: 0.4326 - val_loss: 3.1647 - val_accuracy: 0.4366\n",
      "Epoch 7/10\n",
      "18/18 [==============================] - 0s 9ms/step - loss: 2.7880 - accuracy: 0.4261 - val_loss: 3.1975 - val_accuracy: 0.4467\n",
      "Epoch 8/10\n",
      "18/18 [==============================] - 0s 9ms/step - loss: 2.6615 - accuracy: 0.4391 - val_loss: 3.1764 - val_accuracy: 0.4447\n",
      "Epoch 9/10\n",
      "18/18 [==============================] - 0s 9ms/step - loss: 2.5977 - accuracy: 0.4336 - val_loss: 3.1740 - val_accuracy: 0.4326\n",
      "Epoch 10/10\n",
      "18/18 [==============================] - 0s 10ms/step - loss: 2.5860 - accuracy: 0.4261 - val_loss: 3.2768 - val_accuracy: 0.4366\n"
     ]
    },
    {
     "data": {
      "text/plain": [
       "<keras.callbacks.History at 0x7fdf288ba550>"
      ]
     },
     "execution_count": 210,
     "metadata": {},
     "output_type": "execute_result"
    }
   ],
   "source": [
    "model.fit(tmp_x, target_tensor, batch_size=16, epochs=10, validation_split=0.2)"
   ]
  },
  {
   "cell_type": "code",
   "execution_count": 211,
   "metadata": {},
   "outputs": [],
   "source": [
    "def logits_to_text(logits, tokenizer):\n",
    "    \"\"\"\n",
    "    Turn logits from a neural network into text using the tokenizer\n",
    "    :param logits: Logits from a neural network\n",
    "    :param tokenizer: Keras Tokenizer fit on the labels\n",
    "    :return: String that represents the text of the logits\n",
    "    \"\"\"\n",
    "    index_to_words = {id: word for word, id in tokenizer.word_index.items()}\n",
    "    index_to_words[0] = '<PAD>'\n",
    "\n",
    "    return ' '.join([index_to_words[prediction] for prediction in np.argmax(logits, 1)])"
   ]
  },
  {
   "cell_type": "code",
   "execution_count": 212,
   "metadata": {},
   "outputs": [
    {
     "data": {
      "text/plain": [
       "'<start> ಇದು <end> <end> <PAD> <PAD> <PAD>'"
      ]
     },
     "execution_count": 212,
     "metadata": {},
     "output_type": "execute_result"
    }
   ],
   "source": [
    "logits_to_text(model.predict(tmp_x[:1])[0], target_lang_tokenizer)"
   ]
  },
  {
   "cell_type": "code",
   "execution_count": 213,
   "metadata": {},
   "outputs": [
    {
     "data": {
      "text/plain": [
       "['<start> economic development and social change <end>']"
      ]
     },
     "execution_count": 213,
     "metadata": {},
     "output_type": "execute_result"
    }
   ],
   "source": [
    "eng_lang[:1]"
   ]
  },
  {
   "cell_type": "code",
   "execution_count": 214,
   "metadata": {},
   "outputs": [
    {
     "data": {
      "text/plain": [
       "['<start> ಆರ್ಥಿಕ ಅಭಿವೃದ್ಧಿ ಮತ್ತು ಸಾಮಾಜಿಕ ಬದಲಾವಣೆ <end>']"
      ]
     },
     "execution_count": 214,
     "metadata": {},
     "output_type": "execute_result"
    }
   ],
   "source": [
    "kan_lang[:1]"
   ]
  },
  {
   "cell_type": "markdown",
   "metadata": {},
   "source": [
    "## with embedding"
   ]
  },
  {
   "cell_type": "code",
   "execution_count": 218,
   "metadata": {},
   "outputs": [],
   "source": [
    "tmp_x = input_tensor # .reshape(input_tensor.shape)"
   ]
  },
  {
   "cell_type": "code",
   "execution_count": 219,
   "metadata": {},
   "outputs": [
    {
     "data": {
      "text/plain": [
       "(355, 7)"
      ]
     },
     "execution_count": 219,
     "metadata": {},
     "output_type": "execute_result"
    }
   ],
   "source": [
    "tmp_x.shape"
   ]
  },
  {
   "cell_type": "code",
   "execution_count": 163,
   "metadata": {},
   "outputs": [],
   "source": [
    "x=Embedding(eng_vocab_size, input_length=tmp_x.shape[1], input_shape=tmp_x.shape[1:])"
   ]
  },
  {
   "cell_type": "code",
   "execution_count": 255,
   "metadata": {},
   "outputs": [
    {
     "name": "stdout",
     "output_type": "stream",
     "text": [
      "Model: \"sequential_12\"\n",
      "_________________________________________________________________\n",
      "Layer (type)                 Output Shape              Param #   \n",
      "=================================================================\n",
      "embedding_15 (Embedding)     (None, 7, 64)             32832     \n",
      "_________________________________________________________________\n",
      "gru_12 (GRU)                 (None, 7, 256)            247296    \n",
      "_________________________________________________________________\n",
      "dense_20 (Dense)             (None, 7, 1024)           263168    \n",
      "_________________________________________________________________\n",
      "dropout_10 (Dropout)         (None, 7, 1024)           0         \n",
      "_________________________________________________________________\n",
      "dense_21 (Dense)             (None, 7, 512)            524800    \n",
      "_________________________________________________________________\n",
      "dropout_11 (Dropout)         (None, 7, 512)            0         \n",
      "_________________________________________________________________\n",
      "dense_22 (Dense)             (None, 7, 344)            176472    \n",
      "=================================================================\n",
      "Total params: 1,244,568\n",
      "Trainable params: 1,244,568\n",
      "Non-trainable params: 0\n",
      "_________________________________________________________________\n"
     ]
    }
   ],
   "source": [
    "# Hyperparameters\n",
    "learning_rate = 0.001\n",
    "\n",
    "model = Sequential()\n",
    "model.add(Embedding(eng_vocab_size, 64, input_length=tmp_x.shape[1], input_shape=tmp_x.shape[1:]))\n",
    "model.add(GRU(256, return_sequences=True))\n",
    "model.add(Dense(1024, activation=\"relu\"))\n",
    "model.add(Dropout(0.2))\n",
    "model.add(Dense(512, activation=\"relu\"))\n",
    "model.add(Dropout(0.1))\n",
    "model.add(Dense(kan_vocab_size, activation=\"softmax\"))\n",
    "\n",
    "# Compile model\n",
    "model.compile(loss=sparse_categorical_crossentropy, optimizer=Adam(learning_rate), metrics=[\"accuracy\"])\n",
    "\n",
    "model.summary()"
   ]
  },
  {
   "cell_type": "code",
   "execution_count": 256,
   "metadata": {},
   "outputs": [
    {
     "data": {
      "text/plain": [
       "(355, 7, 1)"
      ]
     },
     "execution_count": 256,
     "metadata": {},
     "output_type": "execute_result"
    }
   ],
   "source": [
    "target_tensor.shape"
   ]
  },
  {
   "cell_type": "code",
   "execution_count": 257,
   "metadata": {},
   "outputs": [
    {
     "name": "stdout",
     "output_type": "stream",
     "text": [
      "Epoch 1/100\n",
      "5/5 [==============================] - 2s 120ms/step - loss: 5.8102 - accuracy: 0.2715 - val_loss: 5.6800 - val_accuracy: 0.3461\n",
      "Epoch 2/100\n",
      "5/5 [==============================] - 0s 23ms/step - loss: 5.4257 - accuracy: 0.3389 - val_loss: 4.4114 - val_accuracy: 0.2032\n",
      "Epoch 3/100\n",
      "5/5 [==============================] - 0s 25ms/step - loss: 4.1741 - accuracy: 0.2533 - val_loss: 3.9689 - val_accuracy: 0.2877\n",
      "Epoch 4/100\n",
      "5/5 [==============================] - 0s 23ms/step - loss: 3.7638 - accuracy: 0.3435 - val_loss: 3.7318 - val_accuracy: 0.3461\n",
      "Epoch 5/100\n",
      "5/5 [==============================] - 0s 25ms/step - loss: 3.5016 - accuracy: 0.3409 - val_loss: 3.4483 - val_accuracy: 0.3461\n",
      "Epoch 6/100\n",
      "5/5 [==============================] - 0s 22ms/step - loss: 3.2547 - accuracy: 0.3475 - val_loss: 3.3781 - val_accuracy: 0.3119\n",
      "Epoch 7/100\n",
      "5/5 [==============================] - 0s 23ms/step - loss: 3.1450 - accuracy: 0.3566 - val_loss: 3.2663 - val_accuracy: 0.3461\n",
      "Epoch 8/100\n",
      "5/5 [==============================] - 0s 24ms/step - loss: 3.0729 - accuracy: 0.3465 - val_loss: 3.1949 - val_accuracy: 0.3984\n",
      "Epoch 9/100\n",
      "5/5 [==============================] - 0s 25ms/step - loss: 2.9934 - accuracy: 0.3845 - val_loss: 3.1552 - val_accuracy: 0.3823\n",
      "Epoch 10/100\n",
      "5/5 [==============================] - 0s 23ms/step - loss: 2.9277 - accuracy: 0.3880 - val_loss: 3.1361 - val_accuracy: 0.4165\n",
      "Epoch 11/100\n",
      "5/5 [==============================] - 0s 27ms/step - loss: 2.8614 - accuracy: 0.4245 - val_loss: 3.1280 - val_accuracy: 0.4326\n",
      "Epoch 12/100\n",
      "5/5 [==============================] - 0s 23ms/step - loss: 2.7981 - accuracy: 0.4463 - val_loss: 3.1016 - val_accuracy: 0.4346\n",
      "Epoch 13/100\n",
      "5/5 [==============================] - 0s 24ms/step - loss: 2.7220 - accuracy: 0.4650 - val_loss: 3.1008 - val_accuracy: 0.4386\n",
      "Epoch 14/100\n",
      "5/5 [==============================] - 0s 32ms/step - loss: 2.6600 - accuracy: 0.4752 - val_loss: 3.1165 - val_accuracy: 0.4567\n",
      "Epoch 15/100\n",
      "5/5 [==============================] - 0s 29ms/step - loss: 2.6047 - accuracy: 0.4934 - val_loss: 3.1746 - val_accuracy: 0.4366\n",
      "Epoch 16/100\n",
      "5/5 [==============================] - 0s 26ms/step - loss: 2.5681 - accuracy: 0.4813 - val_loss: 3.1813 - val_accuracy: 0.4406\n",
      "Epoch 17/100\n",
      "5/5 [==============================] - 0s 29ms/step - loss: 2.5057 - accuracy: 0.4944 - val_loss: 3.2192 - val_accuracy: 0.4406\n",
      "Epoch 18/100\n",
      "5/5 [==============================] - 0s 28ms/step - loss: 2.4925 - accuracy: 0.5005 - val_loss: 3.3019 - val_accuracy: 0.4447\n",
      "Epoch 19/100\n",
      "5/5 [==============================] - 0s 27ms/step - loss: 2.4465 - accuracy: 0.4965 - val_loss: 3.2474 - val_accuracy: 0.4648\n",
      "Epoch 20/100\n",
      "5/5 [==============================] - 0s 28ms/step - loss: 2.3764 - accuracy: 0.5101 - val_loss: 3.2574 - val_accuracy: 0.4628\n",
      "Epoch 21/100\n",
      "5/5 [==============================] - 0s 28ms/step - loss: 2.3397 - accuracy: 0.5147 - val_loss: 3.3147 - val_accuracy: 0.4608\n",
      "Epoch 22/100\n",
      "5/5 [==============================] - 0s 41ms/step - loss: 2.2971 - accuracy: 0.5203 - val_loss: 3.4301 - val_accuracy: 0.4447\n",
      "Epoch 23/100\n",
      "5/5 [==============================] - 0s 27ms/step - loss: 2.2628 - accuracy: 0.5218 - val_loss: 3.4482 - val_accuracy: 0.4386\n",
      "Epoch 24/100\n",
      "5/5 [==============================] - 0s 27ms/step - loss: 2.1991 - accuracy: 0.5299 - val_loss: 3.5586 - val_accuracy: 0.4406\n",
      "Epoch 25/100\n",
      "5/5 [==============================] - 0s 26ms/step - loss: 2.1765 - accuracy: 0.5319 - val_loss: 3.5484 - val_accuracy: 0.4366\n",
      "Epoch 26/100\n",
      "5/5 [==============================] - 0s 26ms/step - loss: 2.1286 - accuracy: 0.5344 - val_loss: 3.5707 - val_accuracy: 0.4608\n",
      "Epoch 27/100\n",
      "5/5 [==============================] - 0s 25ms/step - loss: 2.0883 - accuracy: 0.5395 - val_loss: 3.6934 - val_accuracy: 0.4487\n",
      "Epoch 28/100\n",
      "5/5 [==============================] - 0s 24ms/step - loss: 2.0407 - accuracy: 0.5476 - val_loss: 3.7809 - val_accuracy: 0.4507\n",
      "Epoch 29/100\n",
      "5/5 [==============================] - 0s 24ms/step - loss: 2.0213 - accuracy: 0.5400 - val_loss: 3.7784 - val_accuracy: 0.4467\n",
      "Epoch 30/100\n",
      "5/5 [==============================] - 0s 35ms/step - loss: 1.9918 - accuracy: 0.5466 - val_loss: 3.8762 - val_accuracy: 0.4507\n",
      "Epoch 31/100\n",
      "5/5 [==============================] - 0s 27ms/step - loss: 1.9668 - accuracy: 0.5486 - val_loss: 3.9712 - val_accuracy: 0.4346\n",
      "Epoch 32/100\n",
      "5/5 [==============================] - 0s 28ms/step - loss: 1.9932 - accuracy: 0.5380 - val_loss: 4.0103 - val_accuracy: 0.4406\n",
      "Epoch 33/100\n",
      "5/5 [==============================] - 0s 27ms/step - loss: 1.9584 - accuracy: 0.5426 - val_loss: 3.9621 - val_accuracy: 0.4507\n",
      "Epoch 34/100\n",
      "5/5 [==============================] - 0s 27ms/step - loss: 1.9123 - accuracy: 0.5552 - val_loss: 3.9354 - val_accuracy: 0.4668\n",
      "Epoch 35/100\n",
      "5/5 [==============================] - 0s 26ms/step - loss: 1.8740 - accuracy: 0.5557 - val_loss: 4.0465 - val_accuracy: 0.4648\n",
      "Epoch 36/100\n",
      "5/5 [==============================] - 0s 28ms/step - loss: 1.8258 - accuracy: 0.5694 - val_loss: 4.0635 - val_accuracy: 0.4628\n",
      "Epoch 37/100\n",
      "5/5 [==============================] - 0s 27ms/step - loss: 1.8011 - accuracy: 0.5760 - val_loss: 4.1642 - val_accuracy: 0.4728\n",
      "Epoch 38/100\n",
      "5/5 [==============================] - 0s 26ms/step - loss: 1.7729 - accuracy: 0.5699 - val_loss: 4.2488 - val_accuracy: 0.4608\n",
      "Epoch 39/100\n",
      "5/5 [==============================] - 0s 28ms/step - loss: 1.7329 - accuracy: 0.5881 - val_loss: 4.3667 - val_accuracy: 0.4447\n",
      "Epoch 40/100\n",
      "5/5 [==============================] - 0s 28ms/step - loss: 1.7376 - accuracy: 0.5719 - val_loss: 4.3910 - val_accuracy: 0.4648\n",
      "Epoch 41/100\n",
      "5/5 [==============================] - 0s 27ms/step - loss: 1.7193 - accuracy: 0.5785 - val_loss: 4.3879 - val_accuracy: 0.4849\n",
      "Epoch 42/100\n",
      "5/5 [==============================] - 0s 29ms/step - loss: 1.6992 - accuracy: 0.5775 - val_loss: 4.5088 - val_accuracy: 0.4648\n",
      "Epoch 43/100\n",
      "5/5 [==============================] - 0s 27ms/step - loss: 1.6336 - accuracy: 0.5912 - val_loss: 4.4769 - val_accuracy: 0.4728\n",
      "Epoch 44/100\n",
      "5/5 [==============================] - 0s 27ms/step - loss: 1.6350 - accuracy: 0.5952 - val_loss: 4.5813 - val_accuracy: 0.4748\n",
      "Epoch 45/100\n",
      "5/5 [==============================] - 0s 30ms/step - loss: 1.5937 - accuracy: 0.5968 - val_loss: 4.5556 - val_accuracy: 0.4849\n",
      "Epoch 46/100\n",
      "5/5 [==============================] - 0s 29ms/step - loss: 1.5492 - accuracy: 0.6069 - val_loss: 4.6993 - val_accuracy: 0.4829\n",
      "Epoch 47/100\n",
      "5/5 [==============================] - 0s 28ms/step - loss: 1.5153 - accuracy: 0.6114 - val_loss: 4.6401 - val_accuracy: 0.4849\n",
      "Epoch 48/100\n",
      "5/5 [==============================] - 0s 28ms/step - loss: 1.4699 - accuracy: 0.6155 - val_loss: 4.7795 - val_accuracy: 0.4950\n",
      "Epoch 49/100\n",
      "5/5 [==============================] - 0s 28ms/step - loss: 1.4329 - accuracy: 0.6266 - val_loss: 4.8349 - val_accuracy: 0.4970\n",
      "Epoch 50/100\n",
      "5/5 [==============================] - 0s 27ms/step - loss: 1.4094 - accuracy: 0.6216 - val_loss: 5.0153 - val_accuracy: 0.4748\n",
      "Epoch 51/100\n",
      "5/5 [==============================] - 0s 27ms/step - loss: 1.3561 - accuracy: 0.6358 - val_loss: 5.1116 - val_accuracy: 0.5010\n",
      "Epoch 52/100\n",
      "5/5 [==============================] - 0s 30ms/step - loss: 1.3230 - accuracy: 0.6418 - val_loss: 5.2259 - val_accuracy: 0.5091\n",
      "Epoch 53/100\n",
      "5/5 [==============================] - 0s 25ms/step - loss: 1.3196 - accuracy: 0.6429 - val_loss: 5.3699 - val_accuracy: 0.5010\n",
      "Epoch 54/100\n",
      "5/5 [==============================] - 0s 27ms/step - loss: 1.2835 - accuracy: 0.6413 - val_loss: 5.3534 - val_accuracy: 0.5050\n",
      "Epoch 55/100\n",
      "5/5 [==============================] - 0s 27ms/step - loss: 1.2606 - accuracy: 0.6515 - val_loss: 5.4653 - val_accuracy: 0.5030\n",
      "Epoch 56/100\n",
      "5/5 [==============================] - 0s 26ms/step - loss: 1.2362 - accuracy: 0.6469 - val_loss: 5.5336 - val_accuracy: 0.5070\n",
      "Epoch 57/100\n",
      "5/5 [==============================] - 0s 28ms/step - loss: 1.2120 - accuracy: 0.6616 - val_loss: 5.6425 - val_accuracy: 0.5050\n",
      "Epoch 58/100\n",
      "5/5 [==============================] - 0s 28ms/step - loss: 1.1995 - accuracy: 0.6494 - val_loss: 5.5540 - val_accuracy: 0.4970\n",
      "Epoch 59/100\n",
      "5/5 [==============================] - 0s 28ms/step - loss: 1.1745 - accuracy: 0.6631 - val_loss: 5.6501 - val_accuracy: 0.5010\n",
      "Epoch 60/100\n",
      "5/5 [==============================] - 0s 28ms/step - loss: 1.1348 - accuracy: 0.6707 - val_loss: 5.6219 - val_accuracy: 0.5091\n",
      "Epoch 61/100\n",
      "5/5 [==============================] - 0s 28ms/step - loss: 1.1092 - accuracy: 0.6722 - val_loss: 5.8842 - val_accuracy: 0.5050\n",
      "Epoch 62/100\n",
      "5/5 [==============================] - 0s 29ms/step - loss: 1.1052 - accuracy: 0.6758 - val_loss: 5.7625 - val_accuracy: 0.4950\n",
      "Epoch 63/100\n",
      "5/5 [==============================] - 0s 29ms/step - loss: 1.0657 - accuracy: 0.6844 - val_loss: 5.9388 - val_accuracy: 0.5091\n",
      "Epoch 64/100\n",
      "5/5 [==============================] - 0s 30ms/step - loss: 1.0717 - accuracy: 0.6697 - val_loss: 5.8959 - val_accuracy: 0.5131\n",
      "Epoch 65/100\n",
      "5/5 [==============================] - 0s 28ms/step - loss: 1.0190 - accuracy: 0.6930 - val_loss: 6.0900 - val_accuracy: 0.5171\n",
      "Epoch 66/100\n",
      "5/5 [==============================] - 0s 27ms/step - loss: 1.0164 - accuracy: 0.6915 - val_loss: 6.1997 - val_accuracy: 0.5111\n",
      "Epoch 67/100\n",
      "5/5 [==============================] - 0s 29ms/step - loss: 0.9794 - accuracy: 0.7036 - val_loss: 6.1258 - val_accuracy: 0.5131\n",
      "Epoch 68/100\n",
      "5/5 [==============================] - 0s 29ms/step - loss: 0.9450 - accuracy: 0.7224 - val_loss: 6.3949 - val_accuracy: 0.5312\n",
      "Epoch 69/100\n",
      "5/5 [==============================] - 0s 28ms/step - loss: 0.9177 - accuracy: 0.7128 - val_loss: 6.4376 - val_accuracy: 0.5312\n",
      "Epoch 70/100\n",
      "5/5 [==============================] - 0s 29ms/step - loss: 0.9059 - accuracy: 0.7178 - val_loss: 6.5997 - val_accuracy: 0.5191\n",
      "Epoch 71/100\n",
      "5/5 [==============================] - 0s 27ms/step - loss: 0.8796 - accuracy: 0.7229 - val_loss: 6.6435 - val_accuracy: 0.5151\n",
      "Epoch 72/100\n",
      "5/5 [==============================] - 0s 28ms/step - loss: 0.8665 - accuracy: 0.7295 - val_loss: 6.7443 - val_accuracy: 0.5131\n",
      "Epoch 73/100\n",
      "5/5 [==============================] - 0s 30ms/step - loss: 0.8596 - accuracy: 0.7340 - val_loss: 6.8336 - val_accuracy: 0.5171\n",
      "Epoch 74/100\n",
      "5/5 [==============================] - 0s 28ms/step - loss: 0.8444 - accuracy: 0.7290 - val_loss: 6.8218 - val_accuracy: 0.5272\n",
      "Epoch 75/100\n",
      "5/5 [==============================] - 0s 28ms/step - loss: 0.8722 - accuracy: 0.7315 - val_loss: 6.8625 - val_accuracy: 0.5292\n",
      "Epoch 76/100\n",
      "5/5 [==============================] - 0s 28ms/step - loss: 0.7980 - accuracy: 0.7487 - val_loss: 6.7833 - val_accuracy: 0.5312\n",
      "Epoch 77/100\n",
      "5/5 [==============================] - 0s 29ms/step - loss: 0.7817 - accuracy: 0.7503 - val_loss: 6.8186 - val_accuracy: 0.5292\n",
      "Epoch 78/100\n",
      "5/5 [==============================] - 0s 29ms/step - loss: 0.7820 - accuracy: 0.7528 - val_loss: 6.9481 - val_accuracy: 0.5252\n",
      "Epoch 79/100\n",
      "5/5 [==============================] - 0s 28ms/step - loss: 0.7630 - accuracy: 0.7599 - val_loss: 7.1498 - val_accuracy: 0.5231\n",
      "Epoch 80/100\n",
      "5/5 [==============================] - 0s 27ms/step - loss: 0.7350 - accuracy: 0.7670 - val_loss: 6.9873 - val_accuracy: 0.5231\n",
      "Epoch 81/100\n",
      "5/5 [==============================] - 0s 31ms/step - loss: 0.7755 - accuracy: 0.7579 - val_loss: 7.2777 - val_accuracy: 0.5272\n",
      "Epoch 82/100\n",
      "5/5 [==============================] - 0s 27ms/step - loss: 0.7432 - accuracy: 0.7553 - val_loss: 7.2311 - val_accuracy: 0.5252\n",
      "Epoch 83/100\n",
      "5/5 [==============================] - 0s 29ms/step - loss: 0.7501 - accuracy: 0.7594 - val_loss: 7.1206 - val_accuracy: 0.5312\n",
      "Epoch 84/100\n",
      "5/5 [==============================] - 0s 28ms/step - loss: 0.6952 - accuracy: 0.7634 - val_loss: 7.3318 - val_accuracy: 0.5070\n",
      "Epoch 85/100\n",
      "5/5 [==============================] - 0s 28ms/step - loss: 0.6817 - accuracy: 0.7756 - val_loss: 7.3323 - val_accuracy: 0.5272\n",
      "Epoch 86/100\n",
      "5/5 [==============================] - 0s 28ms/step - loss: 0.6729 - accuracy: 0.7796 - val_loss: 7.2704 - val_accuracy: 0.5352\n",
      "Epoch 87/100\n",
      "5/5 [==============================] - 0s 28ms/step - loss: 0.6896 - accuracy: 0.7710 - val_loss: 7.5929 - val_accuracy: 0.5231\n",
      "Epoch 88/100\n",
      "5/5 [==============================] - 0s 31ms/step - loss: 0.6641 - accuracy: 0.7801 - val_loss: 7.4435 - val_accuracy: 0.5352\n",
      "Epoch 89/100\n",
      "5/5 [==============================] - 0s 30ms/step - loss: 0.6427 - accuracy: 0.7847 - val_loss: 7.4881 - val_accuracy: 0.5332\n",
      "Epoch 90/100\n",
      "5/5 [==============================] - 0s 30ms/step - loss: 0.6285 - accuracy: 0.7817 - val_loss: 7.6235 - val_accuracy: 0.5231\n",
      "Epoch 91/100\n",
      "5/5 [==============================] - 0s 27ms/step - loss: 0.6405 - accuracy: 0.7872 - val_loss: 7.5383 - val_accuracy: 0.5332\n",
      "Epoch 92/100\n",
      "5/5 [==============================] - 0s 28ms/step - loss: 0.6063 - accuracy: 0.8019 - val_loss: 7.7794 - val_accuracy: 0.5352\n",
      "Epoch 93/100\n",
      "5/5 [==============================] - 0s 28ms/step - loss: 0.6125 - accuracy: 0.7918 - val_loss: 7.6432 - val_accuracy: 0.5412\n",
      "Epoch 94/100\n",
      "5/5 [==============================] - 0s 29ms/step - loss: 0.6035 - accuracy: 0.7948 - val_loss: 7.8139 - val_accuracy: 0.5272\n",
      "Epoch 95/100\n",
      "5/5 [==============================] - 0s 25ms/step - loss: 0.5878 - accuracy: 0.8019 - val_loss: 7.6298 - val_accuracy: 0.5292\n",
      "Epoch 96/100\n",
      "5/5 [==============================] - 0s 27ms/step - loss: 0.5716 - accuracy: 0.8065 - val_loss: 7.8641 - val_accuracy: 0.5292\n",
      "Epoch 97/100\n",
      "5/5 [==============================] - 0s 29ms/step - loss: 0.5643 - accuracy: 0.8004 - val_loss: 7.8848 - val_accuracy: 0.5332\n",
      "Epoch 98/100\n",
      "5/5 [==============================] - 0s 27ms/step - loss: 0.5803 - accuracy: 0.8060 - val_loss: 7.8025 - val_accuracy: 0.5332\n",
      "Epoch 99/100\n",
      "5/5 [==============================] - 0s 30ms/step - loss: 0.5373 - accuracy: 0.8176 - val_loss: 7.9575 - val_accuracy: 0.5131\n",
      "Epoch 100/100\n",
      "5/5 [==============================] - 0s 28ms/step - loss: 0.5487 - accuracy: 0.8045 - val_loss: 8.1138 - val_accuracy: 0.5372\n"
     ]
    }
   ],
   "source": [
    "history = model.fit(tmp_x[2:, :], target_tensor[2:, :, :], batch_size=64, epochs=100, validation_split=0.2)"
   ]
  },
  {
   "cell_type": "code",
   "execution_count": 269,
   "metadata": {},
   "outputs": [
    {
     "name": "stdout",
     "output_type": "stream",
     "text": [
      "<start> ದೆಹಲಿ . ಮತ್ತು <end> <end> <PAD>\n",
      "<start> ನಿಮ್ಮ ಮನೆ ಮುಂದೆ <end> <PAD> <PAD>\n"
     ]
    }
   ],
   "source": [
    "print(logits_to_text(model.predict(tmp_x[:1])[0], target_lang_tokenizer))\n",
    "print(logits_to_text(model.predict(tmp_x[1:2])[0], target_lang_tokenizer))"
   ]
  },
  {
   "cell_type": "code",
   "execution_count": 266,
   "metadata": {},
   "outputs": [
    {
     "data": {
      "text/plain": [
       "(['<start> economic development and social change <end>'],\n",
       " ['<start> ಆರ್ಥಿಕ ಅಭಿವೃದ್ಧಿ ಮತ್ತು ಸಾಮಾಜಿಕ ಬದಲಾವಣೆ <end>'],\n",
       " ['<start> in front of her house <end>'],\n",
       " ['<start> ಅವರು ಮನೆ ಮುಂದೆ <end>'])"
      ]
     },
     "execution_count": 266,
     "metadata": {},
     "output_type": "execute_result"
    }
   ],
   "source": [
    "eng_lang[:1], kan_lang[:1], eng_lang[1:2], kan_lang[1:2]"
   ]
  },
  {
   "cell_type": "markdown",
   "metadata": {},
   "source": [
    "## RNN"
   ]
  },
  {
   "cell_type": "code",
   "execution_count": 267,
   "metadata": {},
   "outputs": [
    {
     "name": "stdout",
     "output_type": "stream",
     "text": [
      "Model: \"sequential_15\"\n",
      "_________________________________________________________________\n",
      "Layer (type)                 Output Shape              Param #   \n",
      "=================================================================\n",
      "embedding_18 (Embedding)     (None, 7, 64)             32832     \n",
      "_________________________________________________________________\n",
      "simple_rnn_2 (SimpleRNN)     (None, 7, 16)             1296      \n",
      "_________________________________________________________________\n",
      "dense_27 (Dense)             (None, 7, 512)            8704      \n",
      "_________________________________________________________________\n",
      "dropout_14 (Dropout)         (None, 7, 512)            0         \n",
      "_________________________________________________________________\n",
      "dense_28 (Dense)             (None, 7, 344)            176472    \n",
      "=================================================================\n",
      "Total params: 219,304\n",
      "Trainable params: 219,304\n",
      "Non-trainable params: 0\n",
      "_________________________________________________________________\n"
     ]
    }
   ],
   "source": [
    "learning_rate = 0.005\n",
    "\n",
    "model = Sequential()\n",
    "model.add(Embedding(eng_vocab_size, 64, input_length=tmp_x.shape[1], input_shape=tmp_x.shape[1:]))\n",
    "model.add(SimpleRNN(16, return_sequences=True))\n",
    "model.add(Dense(512, activation=\"relu\"))\n",
    "model.add(Dropout(0.1))\n",
    "model.add(Dense(kan_vocab_size, activation=\"softmax\"))\n",
    "\n",
    "# Compile model\n",
    "model.compile(loss=sparse_categorical_crossentropy, optimizer=Adam(learning_rate), metrics=[\"accuracy\"])\n",
    "\n",
    "model.summary()"
   ]
  },
  {
   "cell_type": "code",
   "execution_count": 268,
   "metadata": {},
   "outputs": [
    {
     "name": "stdout",
     "output_type": "stream",
     "text": [
      "Epoch 1/100\n",
      "5/5 [==============================] - 1s 89ms/step - loss: 5.6912 - accuracy: 0.2994 - val_loss: 5.0797 - val_accuracy: 0.3803\n",
      "Epoch 2/100\n",
      "5/5 [==============================] - 0s 41ms/step - loss: 4.3778 - accuracy: 0.3860 - val_loss: 3.6639 - val_accuracy: 0.3964\n",
      "Epoch 3/100\n",
      "5/5 [==============================] - 0s 44ms/step - loss: 3.3771 - accuracy: 0.4027 - val_loss: 3.2136 - val_accuracy: 0.4165\n",
      "Epoch 4/100\n",
      "5/5 [==============================] - 0s 42ms/step - loss: 2.9302 - accuracy: 0.4265 - val_loss: 3.0929 - val_accuracy: 0.4245\n",
      "Epoch 5/100\n",
      "5/5 [==============================] - 0s 42ms/step - loss: 2.7434 - accuracy: 0.4428 - val_loss: 3.0695 - val_accuracy: 0.4527\n",
      "Epoch 6/100\n",
      "5/5 [==============================] - 0s 40ms/step - loss: 2.5980 - accuracy: 0.4681 - val_loss: 3.0566 - val_accuracy: 0.4427\n",
      "Epoch 7/100\n",
      "5/5 [==============================] - 0s 39ms/step - loss: 2.4510 - accuracy: 0.4873 - val_loss: 3.0695 - val_accuracy: 0.4527\n",
      "Epoch 8/100\n",
      "5/5 [==============================] - 0s 40ms/step - loss: 2.3047 - accuracy: 0.5056 - val_loss: 3.0864 - val_accuracy: 0.4648\n",
      "Epoch 9/100\n",
      "5/5 [==============================] - 0s 37ms/step - loss: 2.1651 - accuracy: 0.5279 - val_loss: 3.1124 - val_accuracy: 0.4648\n",
      "Epoch 10/100\n",
      "5/5 [==============================] - 0s 38ms/step - loss: 2.0297 - accuracy: 0.5507 - val_loss: 3.1499 - val_accuracy: 0.4628\n",
      "Epoch 11/100\n",
      "5/5 [==============================] - 0s 36ms/step - loss: 1.9041 - accuracy: 0.5689 - val_loss: 3.2223 - val_accuracy: 0.4789\n",
      "Epoch 12/100\n",
      "5/5 [==============================] - 0s 38ms/step - loss: 1.7583 - accuracy: 0.5922 - val_loss: 3.2991 - val_accuracy: 0.4829\n",
      "Epoch 13/100\n",
      "5/5 [==============================] - 0s 35ms/step - loss: 1.6411 - accuracy: 0.6104 - val_loss: 3.3750 - val_accuracy: 0.4930\n",
      "Epoch 14/100\n",
      "5/5 [==============================] - 0s 36ms/step - loss: 1.5109 - accuracy: 0.6312 - val_loss: 3.4603 - val_accuracy: 0.4990\n",
      "Epoch 15/100\n",
      "5/5 [==============================] - 0s 45ms/step - loss: 1.3748 - accuracy: 0.6474 - val_loss: 3.5579 - val_accuracy: 0.5050\n",
      "Epoch 16/100\n",
      "5/5 [==============================] - 0s 37ms/step - loss: 1.2517 - accuracy: 0.6798 - val_loss: 3.7035 - val_accuracy: 0.4990\n",
      "Epoch 17/100\n",
      "5/5 [==============================] - 0s 39ms/step - loss: 1.1640 - accuracy: 0.7031 - val_loss: 3.8606 - val_accuracy: 0.5171\n",
      "Epoch 18/100\n",
      "5/5 [==============================] - 0s 38ms/step - loss: 1.0434 - accuracy: 0.7310 - val_loss: 3.9815 - val_accuracy: 0.5010\n",
      "Epoch 19/100\n",
      "5/5 [==============================] - 0s 37ms/step - loss: 0.9430 - accuracy: 0.7518 - val_loss: 4.1070 - val_accuracy: 0.5352\n",
      "Epoch 20/100\n",
      "5/5 [==============================] - 0s 40ms/step - loss: 0.8647 - accuracy: 0.7589 - val_loss: 4.2485 - val_accuracy: 0.5211\n",
      "Epoch 21/100\n",
      "5/5 [==============================] - 0s 37ms/step - loss: 0.7726 - accuracy: 0.7806 - val_loss: 4.3230 - val_accuracy: 0.5372\n",
      "Epoch 22/100\n",
      "5/5 [==============================] - 0s 47ms/step - loss: 0.7002 - accuracy: 0.7898 - val_loss: 4.4792 - val_accuracy: 0.5171\n",
      "Epoch 23/100\n",
      "5/5 [==============================] - 0s 38ms/step - loss: 0.6426 - accuracy: 0.8065 - val_loss: 4.5814 - val_accuracy: 0.5392\n",
      "Epoch 24/100\n",
      "5/5 [==============================] - 0s 35ms/step - loss: 0.6006 - accuracy: 0.8141 - val_loss: 4.6622 - val_accuracy: 0.5211\n",
      "Epoch 25/100\n",
      "5/5 [==============================] - 0s 34ms/step - loss: 0.5576 - accuracy: 0.8136 - val_loss: 4.8079 - val_accuracy: 0.5412\n",
      "Epoch 26/100\n",
      "5/5 [==============================] - 0s 39ms/step - loss: 0.5286 - accuracy: 0.8237 - val_loss: 4.8787 - val_accuracy: 0.5272\n",
      "Epoch 27/100\n",
      "5/5 [==============================] - 0s 37ms/step - loss: 0.5081 - accuracy: 0.8364 - val_loss: 4.9460 - val_accuracy: 0.5392\n",
      "Epoch 28/100\n",
      "5/5 [==============================] - 0s 36ms/step - loss: 0.4822 - accuracy: 0.8333 - val_loss: 5.0182 - val_accuracy: 0.5292\n",
      "Epoch 29/100\n",
      "5/5 [==============================] - 0s 38ms/step - loss: 0.4795 - accuracy: 0.8328 - val_loss: 5.0411 - val_accuracy: 0.5493\n",
      "Epoch 30/100\n",
      "5/5 [==============================] - 0s 37ms/step - loss: 0.4486 - accuracy: 0.8354 - val_loss: 5.1392 - val_accuracy: 0.5312\n",
      "Epoch 31/100\n",
      "5/5 [==============================] - 0s 40ms/step - loss: 0.4459 - accuracy: 0.8303 - val_loss: 5.1756 - val_accuracy: 0.5453\n",
      "Epoch 32/100\n",
      "5/5 [==============================] - 0s 39ms/step - loss: 0.4197 - accuracy: 0.8389 - val_loss: 5.1961 - val_accuracy: 0.5453\n",
      "Epoch 33/100\n",
      "5/5 [==============================] - 0s 36ms/step - loss: 0.4092 - accuracy: 0.8384 - val_loss: 5.2368 - val_accuracy: 0.5312\n",
      "Epoch 34/100\n",
      "5/5 [==============================] - 0s 35ms/step - loss: 0.4007 - accuracy: 0.8465 - val_loss: 5.2786 - val_accuracy: 0.5453\n",
      "Epoch 35/100\n",
      "5/5 [==============================] - 0s 40ms/step - loss: 0.4043 - accuracy: 0.8435 - val_loss: 5.3108 - val_accuracy: 0.5473\n",
      "Epoch 36/100\n",
      "5/5 [==============================] - 0s 38ms/step - loss: 0.3948 - accuracy: 0.8389 - val_loss: 5.3441 - val_accuracy: 0.5513\n",
      "Epoch 37/100\n",
      "5/5 [==============================] - 0s 39ms/step - loss: 0.3817 - accuracy: 0.8475 - val_loss: 5.3570 - val_accuracy: 0.5392\n",
      "Epoch 38/100\n",
      "5/5 [==============================] - 0s 40ms/step - loss: 0.3908 - accuracy: 0.8430 - val_loss: 5.3741 - val_accuracy: 0.5272\n",
      "Epoch 39/100\n",
      "5/5 [==============================] - 0s 39ms/step - loss: 0.3782 - accuracy: 0.8404 - val_loss: 5.3780 - val_accuracy: 0.5433\n",
      "Epoch 40/100\n",
      "5/5 [==============================] - 0s 40ms/step - loss: 0.3816 - accuracy: 0.8364 - val_loss: 5.3861 - val_accuracy: 0.5372\n",
      "Epoch 41/100\n",
      "5/5 [==============================] - 0s 39ms/step - loss: 0.3832 - accuracy: 0.8445 - val_loss: 5.4276 - val_accuracy: 0.5433\n",
      "Epoch 42/100\n",
      "5/5 [==============================] - 0s 40ms/step - loss: 0.3859 - accuracy: 0.8318 - val_loss: 5.4893 - val_accuracy: 0.5352\n",
      "Epoch 43/100\n",
      "5/5 [==============================] - 0s 40ms/step - loss: 0.3821 - accuracy: 0.8379 - val_loss: 5.5012 - val_accuracy: 0.5372\n",
      "Epoch 44/100\n",
      "5/5 [==============================] - 0s 59ms/step - loss: 0.3794 - accuracy: 0.8333 - val_loss: 5.4301 - val_accuracy: 0.5412\n",
      "Epoch 45/100\n",
      "5/5 [==============================] - 0s 48ms/step - loss: 0.3674 - accuracy: 0.8440 - val_loss: 5.4143 - val_accuracy: 0.5513\n",
      "Epoch 46/100\n",
      "5/5 [==============================] - 0s 35ms/step - loss: 0.3683 - accuracy: 0.8435 - val_loss: 5.4536 - val_accuracy: 0.5433\n",
      "Epoch 47/100\n",
      "5/5 [==============================] - 0s 38ms/step - loss: 0.3637 - accuracy: 0.8419 - val_loss: 5.4284 - val_accuracy: 0.5412\n",
      "Epoch 48/100\n",
      "5/5 [==============================] - 0s 38ms/step - loss: 0.3632 - accuracy: 0.8460 - val_loss: 5.4126 - val_accuracy: 0.5433\n",
      "Epoch 49/100\n",
      "5/5 [==============================] - 0s 42ms/step - loss: 0.3687 - accuracy: 0.8450 - val_loss: 5.4351 - val_accuracy: 0.5513\n",
      "Epoch 50/100\n",
      "5/5 [==============================] - 0s 39ms/step - loss: 0.3654 - accuracy: 0.8455 - val_loss: 5.4554 - val_accuracy: 0.5473\n",
      "Epoch 51/100\n",
      "5/5 [==============================] - 0s 40ms/step - loss: 0.3614 - accuracy: 0.8419 - val_loss: 5.4793 - val_accuracy: 0.5412\n",
      "Epoch 52/100\n",
      "5/5 [==============================] - 0s 37ms/step - loss: 0.3561 - accuracy: 0.8384 - val_loss: 5.4411 - val_accuracy: 0.5372\n",
      "Epoch 53/100\n",
      "5/5 [==============================] - 0s 37ms/step - loss: 0.3484 - accuracy: 0.8460 - val_loss: 5.4313 - val_accuracy: 0.5352\n",
      "Epoch 54/100\n",
      "5/5 [==============================] - 0s 39ms/step - loss: 0.3565 - accuracy: 0.8435 - val_loss: 5.4608 - val_accuracy: 0.5412\n",
      "Epoch 55/100\n",
      "5/5 [==============================] - 0s 42ms/step - loss: 0.3426 - accuracy: 0.8470 - val_loss: 5.5159 - val_accuracy: 0.5352\n",
      "Epoch 56/100\n",
      "5/5 [==============================] - 0s 39ms/step - loss: 0.3472 - accuracy: 0.8425 - val_loss: 5.5038 - val_accuracy: 0.5453\n",
      "Epoch 57/100\n",
      "5/5 [==============================] - 0s 41ms/step - loss: 0.3558 - accuracy: 0.8435 - val_loss: 5.4972 - val_accuracy: 0.5392\n",
      "Epoch 58/100\n",
      "5/5 [==============================] - 0s 40ms/step - loss: 0.3557 - accuracy: 0.8430 - val_loss: 5.4775 - val_accuracy: 0.5372\n",
      "Epoch 59/100\n",
      "5/5 [==============================] - 0s 41ms/step - loss: 0.3563 - accuracy: 0.8470 - val_loss: 5.4846 - val_accuracy: 0.5312\n",
      "Epoch 60/100\n",
      "5/5 [==============================] - 0s 36ms/step - loss: 0.3565 - accuracy: 0.8409 - val_loss: 5.4849 - val_accuracy: 0.5473\n",
      "Epoch 61/100\n",
      "5/5 [==============================] - 0s 36ms/step - loss: 0.3542 - accuracy: 0.8394 - val_loss: 5.5044 - val_accuracy: 0.5352\n",
      "Epoch 62/100\n",
      "5/5 [==============================] - 0s 40ms/step - loss: 0.3512 - accuracy: 0.8475 - val_loss: 5.4907 - val_accuracy: 0.5453\n",
      "Epoch 63/100\n",
      "5/5 [==============================] - 0s 36ms/step - loss: 0.3461 - accuracy: 0.8480 - val_loss: 5.4646 - val_accuracy: 0.5412\n",
      "Epoch 64/100\n",
      "5/5 [==============================] - 0s 33ms/step - loss: 0.3457 - accuracy: 0.8430 - val_loss: 5.4520 - val_accuracy: 0.5312\n",
      "Epoch 65/100\n",
      "5/5 [==============================] - 0s 44ms/step - loss: 0.3510 - accuracy: 0.8419 - val_loss: 5.4819 - val_accuracy: 0.5332\n",
      "Epoch 66/100\n",
      "5/5 [==============================] - 0s 36ms/step - loss: 0.3490 - accuracy: 0.8369 - val_loss: 5.4708 - val_accuracy: 0.5312\n",
      "Epoch 67/100\n",
      "5/5 [==============================] - 0s 41ms/step - loss: 0.3414 - accuracy: 0.8475 - val_loss: 5.4581 - val_accuracy: 0.5473\n",
      "Epoch 68/100\n",
      "5/5 [==============================] - 0s 37ms/step - loss: 0.3490 - accuracy: 0.8430 - val_loss: 5.4493 - val_accuracy: 0.5433\n",
      "Epoch 69/100\n",
      "5/5 [==============================] - 0s 35ms/step - loss: 0.3421 - accuracy: 0.8425 - val_loss: 5.4400 - val_accuracy: 0.5392\n",
      "Epoch 70/100\n",
      "5/5 [==============================] - 0s 37ms/step - loss: 0.3439 - accuracy: 0.8440 - val_loss: 5.4485 - val_accuracy: 0.5433\n",
      "Epoch 71/100\n",
      "5/5 [==============================] - 0s 38ms/step - loss: 0.3425 - accuracy: 0.8419 - val_loss: 5.4458 - val_accuracy: 0.5372\n",
      "Epoch 72/100\n",
      "5/5 [==============================] - 0s 38ms/step - loss: 0.3334 - accuracy: 0.8501 - val_loss: 5.4309 - val_accuracy: 0.5412\n",
      "Epoch 73/100\n",
      "5/5 [==============================] - 0s 37ms/step - loss: 0.3369 - accuracy: 0.8409 - val_loss: 5.4382 - val_accuracy: 0.5433\n",
      "Epoch 74/100\n",
      "5/5 [==============================] - 0s 39ms/step - loss: 0.3469 - accuracy: 0.8369 - val_loss: 5.4528 - val_accuracy: 0.5513\n",
      "Epoch 75/100\n",
      "5/5 [==============================] - 0s 38ms/step - loss: 0.3538 - accuracy: 0.8349 - val_loss: 5.4503 - val_accuracy: 0.5352\n",
      "Epoch 76/100\n",
      "5/5 [==============================] - 0s 37ms/step - loss: 0.3418 - accuracy: 0.8485 - val_loss: 5.4638 - val_accuracy: 0.5272\n",
      "Epoch 77/100\n",
      "5/5 [==============================] - 0s 41ms/step - loss: 0.3444 - accuracy: 0.8490 - val_loss: 5.4262 - val_accuracy: 0.5312\n",
      "Epoch 78/100\n",
      "5/5 [==============================] - 0s 42ms/step - loss: 0.3377 - accuracy: 0.8475 - val_loss: 5.3938 - val_accuracy: 0.5453\n",
      "Epoch 79/100\n",
      "5/5 [==============================] - 0s 39ms/step - loss: 0.3463 - accuracy: 0.8440 - val_loss: 5.4193 - val_accuracy: 0.5332\n",
      "Epoch 80/100\n",
      "5/5 [==============================] - 0s 38ms/step - loss: 0.3382 - accuracy: 0.8404 - val_loss: 5.4298 - val_accuracy: 0.5392\n",
      "Epoch 81/100\n",
      "5/5 [==============================] - 0s 38ms/step - loss: 0.3456 - accuracy: 0.8435 - val_loss: 5.4061 - val_accuracy: 0.5433\n",
      "Epoch 82/100\n",
      "5/5 [==============================] - 0s 36ms/step - loss: 0.3425 - accuracy: 0.8460 - val_loss: 5.3721 - val_accuracy: 0.5352\n",
      "Epoch 83/100\n",
      "5/5 [==============================] - 0s 38ms/step - loss: 0.3413 - accuracy: 0.8419 - val_loss: 5.3784 - val_accuracy: 0.5392\n",
      "Epoch 84/100\n",
      "5/5 [==============================] - 0s 37ms/step - loss: 0.3368 - accuracy: 0.8430 - val_loss: 5.4118 - val_accuracy: 0.5332\n",
      "Epoch 85/100\n",
      "5/5 [==============================] - 0s 38ms/step - loss: 0.3347 - accuracy: 0.8450 - val_loss: 5.4303 - val_accuracy: 0.5553\n",
      "Epoch 86/100\n",
      "5/5 [==============================] - 0s 38ms/step - loss: 0.3372 - accuracy: 0.8435 - val_loss: 5.4443 - val_accuracy: 0.5433\n",
      "Epoch 87/100\n",
      "5/5 [==============================] - 0s 41ms/step - loss: 0.3319 - accuracy: 0.8455 - val_loss: 5.4253 - val_accuracy: 0.5372\n",
      "Epoch 88/100\n",
      "5/5 [==============================] - 0s 38ms/step - loss: 0.3308 - accuracy: 0.8445 - val_loss: 5.4047 - val_accuracy: 0.5372\n",
      "Epoch 89/100\n",
      "5/5 [==============================] - 0s 39ms/step - loss: 0.3309 - accuracy: 0.8419 - val_loss: 5.3838 - val_accuracy: 0.5392\n",
      "Epoch 90/100\n",
      "5/5 [==============================] - 0s 38ms/step - loss: 0.3365 - accuracy: 0.8435 - val_loss: 5.3590 - val_accuracy: 0.5453\n",
      "Epoch 91/100\n",
      "5/5 [==============================] - 0s 37ms/step - loss: 0.3426 - accuracy: 0.8389 - val_loss: 5.3825 - val_accuracy: 0.5332\n",
      "Epoch 92/100\n",
      "5/5 [==============================] - 0s 39ms/step - loss: 0.3260 - accuracy: 0.8465 - val_loss: 5.4285 - val_accuracy: 0.5453\n",
      "Epoch 93/100\n",
      "5/5 [==============================] - 0s 41ms/step - loss: 0.3366 - accuracy: 0.8419 - val_loss: 5.4312 - val_accuracy: 0.5352\n",
      "Epoch 94/100\n",
      "5/5 [==============================] - 0s 39ms/step - loss: 0.3432 - accuracy: 0.8369 - val_loss: 5.4099 - val_accuracy: 0.5312\n",
      "Epoch 95/100\n",
      "5/5 [==============================] - 0s 40ms/step - loss: 0.3304 - accuracy: 0.8495 - val_loss: 5.4256 - val_accuracy: 0.5312\n",
      "Epoch 96/100\n",
      "5/5 [==============================] - 0s 37ms/step - loss: 0.3237 - accuracy: 0.8475 - val_loss: 5.4039 - val_accuracy: 0.5392\n",
      "Epoch 97/100\n",
      "5/5 [==============================] - 0s 37ms/step - loss: 0.3327 - accuracy: 0.8495 - val_loss: 5.3792 - val_accuracy: 0.5533\n",
      "Epoch 98/100\n",
      "5/5 [==============================] - 0s 38ms/step - loss: 0.3291 - accuracy: 0.8480 - val_loss: 5.3871 - val_accuracy: 0.5392\n",
      "Epoch 99/100\n",
      "5/5 [==============================] - 0s 40ms/step - loss: 0.3297 - accuracy: 0.8435 - val_loss: 5.3820 - val_accuracy: 0.5412\n",
      "Epoch 100/100\n",
      "5/5 [==============================] - 0s 41ms/step - loss: 0.3303 - accuracy: 0.8465 - val_loss: 5.3755 - val_accuracy: 0.5272\n"
     ]
    },
    {
     "data": {
      "text/plain": [
       "<keras.callbacks.History at 0x7fdf29437490>"
      ]
     },
     "execution_count": 268,
     "metadata": {},
     "output_type": "execute_result"
    }
   ],
   "source": [
    "model.fit(tmp_x[2:, :], target_tensor[2:, :, :], batch_size=64, epochs=100, validation_split=0.2)"
   ]
  },
  {
   "cell_type": "markdown",
   "metadata": {},
   "source": [
    "## LSTM"
   ]
  },
  {
   "cell_type": "code",
   "execution_count": 273,
   "metadata": {},
   "outputs": [
    {
     "name": "stdout",
     "output_type": "stream",
     "text": [
      "Model: \"sequential_17\"\n",
      "_________________________________________________________________\n",
      "Layer (type)                 Output Shape              Param #   \n",
      "=================================================================\n",
      "embedding_20 (Embedding)     (None, 7, 8)              4104      \n",
      "_________________________________________________________________\n",
      "lstm_1 (LSTM)                (None, 7, 16)             1600      \n",
      "_________________________________________________________________\n",
      "dense_31 (Dense)             (None, 7, 1024)           17408     \n",
      "_________________________________________________________________\n",
      "dropout_16 (Dropout)         (None, 7, 1024)           0         \n",
      "_________________________________________________________________\n",
      "dense_32 (Dense)             (None, 7, 344)            352600    \n",
      "=================================================================\n",
      "Total params: 375,712\n",
      "Trainable params: 375,712\n",
      "Non-trainable params: 0\n",
      "_________________________________________________________________\n"
     ]
    }
   ],
   "source": [
    "# Hyperparameters\n",
    "learning_rate = 0.005\n",
    "\n",
    "model = Sequential()\n",
    "model.add(Embedding(eng_vocab_size, 8, input_length=tmp_x.shape[1], input_shape=tmp_x.shape[1:]))\n",
    "model.add(LSTM(16, return_sequences=True))\n",
    "model.add(Dense(1024, activation=\"relu\"))\n",
    "model.add(Dropout(0.5))\n",
    "model.add(Dense(kan_vocab_size, activation=\"softmax\"))\n",
    "\n",
    "# Compile model\n",
    "model.compile(loss=sparse_categorical_crossentropy, optimizer=Adam(learning_rate), metrics=[\"accuracy\"])\n",
    "\n",
    "model.summary()"
   ]
  },
  {
   "cell_type": "code",
   "execution_count": 277,
   "metadata": {},
   "outputs": [
    {
     "name": "stdout",
     "output_type": "stream",
     "text": [
      "Epoch 1/100\n",
      "5/5 [==============================] - 0s 45ms/step - loss: 0.4012 - accuracy: 0.8369 - val_loss: 6.9712 - val_accuracy: 0.5272\n",
      "Epoch 2/100\n",
      "5/5 [==============================] - 0s 23ms/step - loss: 0.4186 - accuracy: 0.8313 - val_loss: 6.9716 - val_accuracy: 0.5252\n",
      "Epoch 3/100\n",
      "5/5 [==============================] - 0s 19ms/step - loss: 0.3954 - accuracy: 0.8414 - val_loss: 6.9879 - val_accuracy: 0.5272\n",
      "Epoch 4/100\n",
      "5/5 [==============================] - 0s 19ms/step - loss: 0.4038 - accuracy: 0.8384 - val_loss: 7.0139 - val_accuracy: 0.5312\n",
      "Epoch 5/100\n",
      "5/5 [==============================] - 0s 20ms/step - loss: 0.4065 - accuracy: 0.8389 - val_loss: 7.0019 - val_accuracy: 0.5392\n",
      "Epoch 6/100\n",
      "5/5 [==============================] - 0s 22ms/step - loss: 0.4051 - accuracy: 0.8470 - val_loss: 6.9721 - val_accuracy: 0.5392\n",
      "Epoch 7/100\n",
      "5/5 [==============================] - 0s 20ms/step - loss: 0.4075 - accuracy: 0.8394 - val_loss: 6.9467 - val_accuracy: 0.5211\n",
      "Epoch 8/100\n",
      "5/5 [==============================] - 0s 19ms/step - loss: 0.4120 - accuracy: 0.8404 - val_loss: 6.9379 - val_accuracy: 0.5211\n",
      "Epoch 9/100\n",
      "5/5 [==============================] - 0s 20ms/step - loss: 0.4030 - accuracy: 0.8394 - val_loss: 6.9713 - val_accuracy: 0.5312\n",
      "Epoch 10/100\n",
      "5/5 [==============================] - 0s 25ms/step - loss: 0.4063 - accuracy: 0.8455 - val_loss: 6.9737 - val_accuracy: 0.5312\n",
      "Epoch 11/100\n",
      "5/5 [==============================] - 0s 23ms/step - loss: 0.3984 - accuracy: 0.8394 - val_loss: 6.9997 - val_accuracy: 0.5231\n",
      "Epoch 12/100\n",
      "5/5 [==============================] - 0s 19ms/step - loss: 0.4085 - accuracy: 0.8364 - val_loss: 6.9888 - val_accuracy: 0.5231\n",
      "Epoch 13/100\n",
      "5/5 [==============================] - 0s 21ms/step - loss: 0.4042 - accuracy: 0.8470 - val_loss: 6.9419 - val_accuracy: 0.5292\n",
      "Epoch 14/100\n",
      "5/5 [==============================] - 0s 20ms/step - loss: 0.4090 - accuracy: 0.8399 - val_loss: 6.9939 - val_accuracy: 0.5272\n",
      "Epoch 15/100\n",
      "5/5 [==============================] - 0s 22ms/step - loss: 0.4099 - accuracy: 0.8414 - val_loss: 6.9877 - val_accuracy: 0.5352\n",
      "Epoch 16/100\n",
      "5/5 [==============================] - 0s 22ms/step - loss: 0.4092 - accuracy: 0.8354 - val_loss: 6.9586 - val_accuracy: 0.5292\n",
      "Epoch 17/100\n",
      "5/5 [==============================] - 0s 19ms/step - loss: 0.4146 - accuracy: 0.8369 - val_loss: 6.9220 - val_accuracy: 0.5332\n",
      "Epoch 18/100\n",
      "5/5 [==============================] - 0s 19ms/step - loss: 0.3912 - accuracy: 0.8455 - val_loss: 6.9661 - val_accuracy: 0.5292\n",
      "Epoch 19/100\n",
      "5/5 [==============================] - 0s 19ms/step - loss: 0.3948 - accuracy: 0.8384 - val_loss: 7.0036 - val_accuracy: 0.5272\n",
      "Epoch 20/100\n",
      "5/5 [==============================] - 0s 19ms/step - loss: 0.3948 - accuracy: 0.8394 - val_loss: 7.0501 - val_accuracy: 0.5292\n",
      "Epoch 21/100\n",
      "5/5 [==============================] - 0s 20ms/step - loss: 0.3728 - accuracy: 0.8495 - val_loss: 7.0626 - val_accuracy: 0.5392\n",
      "Epoch 22/100\n",
      "5/5 [==============================] - 0s 20ms/step - loss: 0.3956 - accuracy: 0.8419 - val_loss: 7.0982 - val_accuracy: 0.5433\n",
      "Epoch 23/100\n",
      "5/5 [==============================] - 0s 17ms/step - loss: 0.3888 - accuracy: 0.8450 - val_loss: 7.1175 - val_accuracy: 0.5312\n",
      "Epoch 24/100\n",
      "5/5 [==============================] - 0s 22ms/step - loss: 0.3988 - accuracy: 0.8394 - val_loss: 7.0685 - val_accuracy: 0.5292\n",
      "Epoch 25/100\n",
      "5/5 [==============================] - 0s 19ms/step - loss: 0.3867 - accuracy: 0.8526 - val_loss: 7.0596 - val_accuracy: 0.5231\n",
      "Epoch 26/100\n",
      "5/5 [==============================] - 0s 20ms/step - loss: 0.3976 - accuracy: 0.8364 - val_loss: 7.0483 - val_accuracy: 0.5292\n",
      "Epoch 27/100\n",
      "5/5 [==============================] - 0s 17ms/step - loss: 0.3934 - accuracy: 0.8435 - val_loss: 7.0735 - val_accuracy: 0.5272\n",
      "Epoch 28/100\n",
      "5/5 [==============================] - 0s 19ms/step - loss: 0.3971 - accuracy: 0.8379 - val_loss: 7.0997 - val_accuracy: 0.5272\n",
      "Epoch 29/100\n",
      "5/5 [==============================] - 0s 19ms/step - loss: 0.4054 - accuracy: 0.8364 - val_loss: 7.0839 - val_accuracy: 0.5292\n",
      "Epoch 30/100\n",
      "5/5 [==============================] - 0s 24ms/step - loss: 0.3948 - accuracy: 0.8349 - val_loss: 7.0481 - val_accuracy: 0.5272\n",
      "Epoch 31/100\n",
      "5/5 [==============================] - 0s 29ms/step - loss: 0.3918 - accuracy: 0.8399 - val_loss: 7.0357 - val_accuracy: 0.5312\n",
      "Epoch 32/100\n",
      "5/5 [==============================] - 0s 28ms/step - loss: 0.4001 - accuracy: 0.8384 - val_loss: 7.0233 - val_accuracy: 0.5171\n",
      "Epoch 33/100\n",
      "5/5 [==============================] - 0s 27ms/step - loss: 0.4042 - accuracy: 0.8394 - val_loss: 6.9711 - val_accuracy: 0.5292\n",
      "Epoch 34/100\n",
      "5/5 [==============================] - 0s 24ms/step - loss: 0.3909 - accuracy: 0.8399 - val_loss: 6.9868 - val_accuracy: 0.5292\n",
      "Epoch 35/100\n",
      "5/5 [==============================] - 0s 25ms/step - loss: 0.3876 - accuracy: 0.8389 - val_loss: 7.0097 - val_accuracy: 0.5272\n",
      "Epoch 36/100\n",
      "5/5 [==============================] - 0s 29ms/step - loss: 0.3898 - accuracy: 0.8394 - val_loss: 7.0276 - val_accuracy: 0.5372\n",
      "Epoch 37/100\n",
      "5/5 [==============================] - 0s 33ms/step - loss: 0.3822 - accuracy: 0.8455 - val_loss: 7.0461 - val_accuracy: 0.5392\n",
      "Epoch 38/100\n",
      "5/5 [==============================] - 0s 25ms/step - loss: 0.3812 - accuracy: 0.8430 - val_loss: 7.0581 - val_accuracy: 0.5372\n",
      "Epoch 39/100\n",
      "5/5 [==============================] - 0s 21ms/step - loss: 0.3979 - accuracy: 0.8313 - val_loss: 7.1014 - val_accuracy: 0.5352\n",
      "Epoch 40/100\n",
      "5/5 [==============================] - 0s 18ms/step - loss: 0.3790 - accuracy: 0.8409 - val_loss: 7.0790 - val_accuracy: 0.5292\n",
      "Epoch 41/100\n",
      "5/5 [==============================] - 0s 19ms/step - loss: 0.3930 - accuracy: 0.8354 - val_loss: 7.1271 - val_accuracy: 0.5312\n",
      "Epoch 42/100\n",
      "5/5 [==============================] - 0s 18ms/step - loss: 0.3910 - accuracy: 0.8354 - val_loss: 7.1239 - val_accuracy: 0.5272\n",
      "Epoch 43/100\n",
      "5/5 [==============================] - 0s 17ms/step - loss: 0.3956 - accuracy: 0.8384 - val_loss: 7.1104 - val_accuracy: 0.5372\n",
      "Epoch 44/100\n",
      "5/5 [==============================] - 0s 17ms/step - loss: 0.3874 - accuracy: 0.8343 - val_loss: 7.0876 - val_accuracy: 0.5352\n",
      "Epoch 45/100\n",
      "5/5 [==============================] - 0s 16ms/step - loss: 0.3897 - accuracy: 0.8435 - val_loss: 7.0774 - val_accuracy: 0.5372\n",
      "Epoch 46/100\n",
      "5/5 [==============================] - 0s 18ms/step - loss: 0.3761 - accuracy: 0.8419 - val_loss: 7.0999 - val_accuracy: 0.5372\n",
      "Epoch 47/100\n",
      "5/5 [==============================] - 0s 19ms/step - loss: 0.3738 - accuracy: 0.8475 - val_loss: 7.1263 - val_accuracy: 0.5312\n",
      "Epoch 48/100\n",
      "5/5 [==============================] - 0s 18ms/step - loss: 0.3816 - accuracy: 0.8485 - val_loss: 7.1270 - val_accuracy: 0.5372\n",
      "Epoch 49/100\n",
      "5/5 [==============================] - 0s 16ms/step - loss: 0.3813 - accuracy: 0.8399 - val_loss: 7.1284 - val_accuracy: 0.5211\n",
      "Epoch 50/100\n",
      "5/5 [==============================] - 0s 16ms/step - loss: 0.3825 - accuracy: 0.8389 - val_loss: 7.1324 - val_accuracy: 0.5312\n",
      "Epoch 51/100\n",
      "5/5 [==============================] - 0s 17ms/step - loss: 0.3908 - accuracy: 0.8384 - val_loss: 7.1052 - val_accuracy: 0.5332\n",
      "Epoch 52/100\n",
      "5/5 [==============================] - 0s 17ms/step - loss: 0.3810 - accuracy: 0.8404 - val_loss: 7.0712 - val_accuracy: 0.5312\n",
      "Epoch 53/100\n",
      "5/5 [==============================] - 0s 16ms/step - loss: 0.3883 - accuracy: 0.8445 - val_loss: 7.0709 - val_accuracy: 0.5433\n",
      "Epoch 54/100\n",
      "5/5 [==============================] - 0s 18ms/step - loss: 0.3918 - accuracy: 0.8425 - val_loss: 7.0751 - val_accuracy: 0.5312\n",
      "Epoch 55/100\n",
      "5/5 [==============================] - 0s 16ms/step - loss: 0.3957 - accuracy: 0.8409 - val_loss: 7.0414 - val_accuracy: 0.5252\n",
      "Epoch 56/100\n",
      "5/5 [==============================] - 0s 16ms/step - loss: 0.3772 - accuracy: 0.8425 - val_loss: 7.0537 - val_accuracy: 0.5372\n",
      "Epoch 57/100\n",
      "5/5 [==============================] - 0s 15ms/step - loss: 0.3672 - accuracy: 0.8501 - val_loss: 7.1404 - val_accuracy: 0.5272\n",
      "Epoch 58/100\n",
      "5/5 [==============================] - 0s 16ms/step - loss: 0.3846 - accuracy: 0.8394 - val_loss: 7.1706 - val_accuracy: 0.5332\n",
      "Epoch 59/100\n",
      "5/5 [==============================] - 0s 16ms/step - loss: 0.3748 - accuracy: 0.8435 - val_loss: 7.1552 - val_accuracy: 0.5191\n",
      "Epoch 60/100\n",
      "5/5 [==============================] - 0s 17ms/step - loss: 0.3867 - accuracy: 0.8430 - val_loss: 7.1474 - val_accuracy: 0.5292\n",
      "Epoch 61/100\n",
      "5/5 [==============================] - 0s 16ms/step - loss: 0.3865 - accuracy: 0.8338 - val_loss: 7.1705 - val_accuracy: 0.5211\n",
      "Epoch 62/100\n",
      "5/5 [==============================] - 0s 16ms/step - loss: 0.3813 - accuracy: 0.8414 - val_loss: 7.1299 - val_accuracy: 0.5231\n",
      "Epoch 63/100\n",
      "5/5 [==============================] - 0s 17ms/step - loss: 0.3792 - accuracy: 0.8440 - val_loss: 7.1310 - val_accuracy: 0.5191\n",
      "Epoch 64/100\n",
      "5/5 [==============================] - 0s 15ms/step - loss: 0.3751 - accuracy: 0.8465 - val_loss: 7.1861 - val_accuracy: 0.5372\n",
      "Epoch 65/100\n",
      "5/5 [==============================] - 0s 16ms/step - loss: 0.3832 - accuracy: 0.8389 - val_loss: 7.2210 - val_accuracy: 0.5352\n",
      "Epoch 66/100\n",
      "5/5 [==============================] - 0s 16ms/step - loss: 0.3854 - accuracy: 0.8440 - val_loss: 7.1847 - val_accuracy: 0.5352\n",
      "Epoch 67/100\n",
      "5/5 [==============================] - 0s 20ms/step - loss: 0.3795 - accuracy: 0.8430 - val_loss: 7.1488 - val_accuracy: 0.5352\n",
      "Epoch 68/100\n",
      "5/5 [==============================] - 0s 18ms/step - loss: 0.3810 - accuracy: 0.8349 - val_loss: 7.0915 - val_accuracy: 0.5252\n",
      "Epoch 69/100\n",
      "5/5 [==============================] - 0s 19ms/step - loss: 0.3743 - accuracy: 0.8419 - val_loss: 7.1401 - val_accuracy: 0.5292\n",
      "Epoch 70/100\n",
      "5/5 [==============================] - 0s 19ms/step - loss: 0.3767 - accuracy: 0.8465 - val_loss: 7.1236 - val_accuracy: 0.5352\n",
      "Epoch 71/100\n",
      "5/5 [==============================] - 0s 20ms/step - loss: 0.3851 - accuracy: 0.8369 - val_loss: 7.1100 - val_accuracy: 0.5352\n",
      "Epoch 72/100\n",
      "5/5 [==============================] - 0s 16ms/step - loss: 0.3650 - accuracy: 0.8430 - val_loss: 7.1151 - val_accuracy: 0.5412\n",
      "Epoch 73/100\n",
      "5/5 [==============================] - 0s 19ms/step - loss: 0.3734 - accuracy: 0.8425 - val_loss: 7.1737 - val_accuracy: 0.5272\n",
      "Epoch 74/100\n",
      "5/5 [==============================] - 0s 19ms/step - loss: 0.3648 - accuracy: 0.8425 - val_loss: 7.1927 - val_accuracy: 0.5231\n",
      "Epoch 75/100\n",
      "5/5 [==============================] - 0s 16ms/step - loss: 0.3700 - accuracy: 0.8440 - val_loss: 7.2080 - val_accuracy: 0.5332\n",
      "Epoch 76/100\n",
      "5/5 [==============================] - 0s 15ms/step - loss: 0.3724 - accuracy: 0.8389 - val_loss: 7.2136 - val_accuracy: 0.5352\n",
      "Epoch 77/100\n",
      "5/5 [==============================] - 0s 15ms/step - loss: 0.3692 - accuracy: 0.8425 - val_loss: 7.2187 - val_accuracy: 0.5332\n",
      "Epoch 78/100\n",
      "5/5 [==============================] - 0s 17ms/step - loss: 0.3734 - accuracy: 0.8445 - val_loss: 7.1863 - val_accuracy: 0.5352\n",
      "Epoch 79/100\n",
      "5/5 [==============================] - 0s 18ms/step - loss: 0.3649 - accuracy: 0.8445 - val_loss: 7.1423 - val_accuracy: 0.5372\n",
      "Epoch 80/100\n",
      "5/5 [==============================] - 0s 16ms/step - loss: 0.3759 - accuracy: 0.8394 - val_loss: 7.1620 - val_accuracy: 0.5231\n",
      "Epoch 81/100\n",
      "5/5 [==============================] - 0s 15ms/step - loss: 0.3700 - accuracy: 0.8404 - val_loss: 7.1921 - val_accuracy: 0.5352\n",
      "Epoch 82/100\n",
      "5/5 [==============================] - 0s 17ms/step - loss: 0.3762 - accuracy: 0.8389 - val_loss: 7.2158 - val_accuracy: 0.5312\n",
      "Epoch 83/100\n",
      "5/5 [==============================] - 0s 18ms/step - loss: 0.3690 - accuracy: 0.8404 - val_loss: 7.2204 - val_accuracy: 0.5292\n",
      "Epoch 84/100\n",
      "5/5 [==============================] - 0s 15ms/step - loss: 0.3703 - accuracy: 0.8440 - val_loss: 7.2126 - val_accuracy: 0.5352\n",
      "Epoch 85/100\n",
      "5/5 [==============================] - 0s 16ms/step - loss: 0.3697 - accuracy: 0.8399 - val_loss: 7.2021 - val_accuracy: 0.5231\n",
      "Epoch 86/100\n",
      "5/5 [==============================] - 0s 15ms/step - loss: 0.3669 - accuracy: 0.8399 - val_loss: 7.2048 - val_accuracy: 0.5292\n",
      "Epoch 87/100\n",
      "5/5 [==============================] - 0s 18ms/step - loss: 0.3693 - accuracy: 0.8369 - val_loss: 7.2376 - val_accuracy: 0.5272\n",
      "Epoch 88/100\n",
      "5/5 [==============================] - 0s 18ms/step - loss: 0.3682 - accuracy: 0.8399 - val_loss: 7.2747 - val_accuracy: 0.5332\n",
      "Epoch 89/100\n",
      "5/5 [==============================] - 0s 16ms/step - loss: 0.3719 - accuracy: 0.8460 - val_loss: 7.2645 - val_accuracy: 0.5332\n",
      "Epoch 90/100\n",
      "5/5 [==============================] - 0s 19ms/step - loss: 0.3648 - accuracy: 0.8475 - val_loss: 7.2682 - val_accuracy: 0.5272\n",
      "Epoch 91/100\n",
      "5/5 [==============================] - 0s 17ms/step - loss: 0.3628 - accuracy: 0.8409 - val_loss: 7.2545 - val_accuracy: 0.5332\n",
      "Epoch 92/100\n",
      "5/5 [==============================] - 0s 17ms/step - loss: 0.3703 - accuracy: 0.8430 - val_loss: 7.2610 - val_accuracy: 0.5352\n",
      "Epoch 93/100\n",
      "5/5 [==============================] - 0s 17ms/step - loss: 0.3574 - accuracy: 0.8506 - val_loss: 7.2324 - val_accuracy: 0.5352\n",
      "Epoch 94/100\n",
      "5/5 [==============================] - 0s 17ms/step - loss: 0.3700 - accuracy: 0.8414 - val_loss: 7.2521 - val_accuracy: 0.5312\n",
      "Epoch 95/100\n",
      "5/5 [==============================] - 0s 16ms/step - loss: 0.3647 - accuracy: 0.8455 - val_loss: 7.2674 - val_accuracy: 0.5392\n",
      "Epoch 96/100\n",
      "5/5 [==============================] - 0s 16ms/step - loss: 0.3677 - accuracy: 0.8430 - val_loss: 7.2745 - val_accuracy: 0.5332\n",
      "Epoch 97/100\n",
      "5/5 [==============================] - 0s 21ms/step - loss: 0.3659 - accuracy: 0.8455 - val_loss: 7.2805 - val_accuracy: 0.5231\n",
      "Epoch 98/100\n",
      "5/5 [==============================] - 0s 16ms/step - loss: 0.3676 - accuracy: 0.8455 - val_loss: 7.2860 - val_accuracy: 0.5392\n",
      "Epoch 99/100\n",
      "5/5 [==============================] - 0s 17ms/step - loss: 0.3648 - accuracy: 0.8480 - val_loss: 7.2982 - val_accuracy: 0.5171\n",
      "Epoch 100/100\n",
      "5/5 [==============================] - 0s 19ms/step - loss: 0.3694 - accuracy: 0.8445 - val_loss: 7.3175 - val_accuracy: 0.5292\n"
     ]
    }
   ],
   "source": [
    "history = model.fit(tmp_x[2:, :], target_tensor[2:, :, :], batch_size=64, epochs=100, validation_split=0.2)"
   ]
  },
  {
   "cell_type": "code",
   "execution_count": 278,
   "metadata": {},
   "outputs": [
    {
     "name": "stdout",
     "output_type": "stream",
     "text": [
      "<start> ಕಾಂಗ್ರೆಸ್ ಅಭಿವೃದ್ಧಿ ಮತ್ತು <end> <end> <PAD>\n",
      "<start> ರಾಜ್ಯ ಮನೆ ಮುಂದೆ <end> <PAD> <PAD>\n"
     ]
    }
   ],
   "source": [
    "print(logits_to_text(model.predict(tmp_x[:1])[0], target_lang_tokenizer))\n",
    "print(logits_to_text(model.predict(tmp_x[1:2])[0], target_lang_tokenizer))"
   ]
  },
  {
   "cell_type": "code",
   "execution_count": 279,
   "metadata": {},
   "outputs": [
    {
     "data": {
      "text/plain": [
       "(['<start> man dies of heart attack <end>'],\n",
       " ['<start> ಹೃದಯಾಘಾತದಿಂದ ವ್ಯಕ್ತಿ ಸಾವು <end>'])"
      ]
     },
     "execution_count": 279,
     "metadata": {},
     "output_type": "execute_result"
    }
   ],
   "source": [
    "eng_lang[11:12], kan_lang[11:12]"
   ]
  },
  {
   "cell_type": "code",
   "execution_count": 284,
   "metadata": {},
   "outputs": [
    {
     "data": {
      "image/png": "[encoded data removed]",
      "text/plain": [
       "<Figure size 432x288 with 1 Axes>"
      ]
     },
     "metadata": {
      "needs_background": "light"
     },
     "output_type": "display_data"
    }
   ],
   "source": [
    "plt.plot(history.history['accuracy'])\n",
    "plt.plot(history.history['val_accuracy'])\n",
    "plt.title('model accuracy')\n",
    "plt.ylabel('accuracy')\n",
    "plt.xlabel('epoch')\n",
    "plt.legend(['train', 'val'], loc='upper left')\n",
    "plt.show()"
   ]
  },
  {
   "cell_type": "code",
   "execution_count": null,
   "metadata": {},
   "outputs": [],
   "source": []
  }
 ],
 "metadata": {
  "interpreter": {
   "hash": "5389084009f50fcd59a3cb4e5644811f30d28878656ff430dc8b5671e7ebac80"
  },
  "kernelspec": {
   "display_name": "Python 3.9.5 64-bit ('csci444': venv)",
   "language": "python",
   "name": "python3"
  },
  "language_info": {
   "codemirror_mode": {
    "name": "ipython",
    "version": 3
   },
   "file_extension": ".py",
   "mimetype": "text/x-python",
   "name": "python",
   "nbconvert_exporter": "python",
   "pygments_lexer": "ipython3",
   "version": "3.9.5"
  },
  "orig_nbformat": 4
 },
 "nbformat": 4,
 "nbformat_minor": 2
}
